{
  "nbformat": 4,
  "nbformat_minor": 0,
  "metadata": {
    "colab": {
      "provenance": []
    },
    "kernelspec": {
      "name": "python3",
      "display_name": "Python 3"
    },
    "language_info": {
      "name": "python"
    }
  },
  "cells": [
    {
      "cell_type": "code",
      "source": [
        "import pandas as pd\n",
        "import tensorflow as tf\n",
        "import numpy as np\n",
        "from tensorflow.keras.models import Model\n",
        "from tensorflow.keras.layers import Embedding, Dense, Input, LSTM, GRU, SimpleRNN\n",
        "from tensorflow.keras.preprocessing.sequence import pad_sequences\n",
        "\n",
        "# ------------------------\n",
        "# Custom Config\n",
        "# ------------------------\n",
        "embed_sz = 32\n",
        "units = 64\n",
        "depth = 1\n",
        "cell_kind = 'LSTM'  # 'GRU' or 'RNN'\n",
        "\n",
        "# ------------------------\n",
        "# Read Data from the TSV file\n",
        "# ------------------------\n",
        "file_path = 'hi.translit.sampled.train.tsv'\n",
        "\n",
        "# Load data using pandas\n",
        "df = pd.read_csv(file_path, sep='\\t', header=None, names=['Hindi', 'Transliteration', 'Frequency'])\n",
        "\n",
        "# Drop rows with any missing values\n",
        "df = df.dropna(subset=['Hindi', 'Transliteration'])\n",
        "\n",
        "# Convert to string (in case there are numbers/floats)\n",
        "hin = df['Hindi'].astype(str).values\n",
        "eng = df['Transliteration'].astype(str).values\n",
        "\n",
        "\n",
        "# ------------------------\n",
        "# Tokenization\n",
        "# ------------------------\n",
        "def tokenize(char_list):\n",
        "    chars = sorted(set(''.join(char_list)))\n",
        "    c2i = {c: i+1 for i, c in enumerate(chars)}\n",
        "    i2c = {i: c for c, i in c2i.items()}\n",
        "    return c2i, i2c\n",
        "\n",
        "src_vocab, rev_src = tokenize(eng)\n",
        "tgt_vocab, rev_tgt = tokenize(hin)\n",
        "\n",
        "src_vocab_len = len(src_vocab) + 1\n",
        "tgt_vocab_len = len(tgt_vocab) + 1\n",
        "\n",
        "# ------------------------\n",
        "# Encode and Pad Sequences\n",
        "# ------------------------\n",
        "def encode_sequence(word_list, mapper):\n",
        "    return [[mapper[ch] for ch in word] for word in word_list]\n",
        "\n",
        "src_encoded = encode_sequence(eng, src_vocab)\n",
        "tgt_encoded = encode_sequence(hin, tgt_vocab)\n",
        "\n",
        "sos_token = tgt_vocab_len\n",
        "eos_token = tgt_vocab_len + 1\n",
        "\n",
        "# Padding sequences to handle varying lengths\n",
        "dec_input = pad_sequences([[sos_token] + seq for seq in tgt_encoded], padding='post')\n",
        "dec_output = pad_sequences([seq + [eos_token] for seq in tgt_encoded], padding='post')\n",
        "dec_output = np.expand_dims(dec_output, -1)\n",
        "src_input = pad_sequences(src_encoded, padding='post')\n",
        "\n",
        "# ------------------------\n",
        "# RNN Selector\n",
        "# ------------------------\n",
        "def make_rnn(units, name, return_sequences=False, return_state=True):\n",
        "    if cell_kind == 'GRU':\n",
        "        return GRU(units, name=name, return_sequences=return_sequences, return_state=return_state)\n",
        "    elif cell_kind == 'RNN':\n",
        "        return SimpleRNN(units, name=name, return_sequences=return_sequences, return_state=return_state)\n",
        "    else:\n",
        "        return LSTM(units, name=name, return_sequences=return_sequences, return_state=return_state)\n",
        "\n",
        "# ------------------------\n",
        "# Model Assembly\n",
        "# ------------------------\n",
        "enc_input_layer = Input(shape=(None,), name=\"src_input\")\n",
        "enc_embed = Embedding(input_dim=src_vocab_len, output_dim=embed_sz, mask_zero=True, name=\"src_embed\")(enc_input_layer)\n",
        "\n",
        "# Encoder Stack\n",
        "enc_out = enc_embed\n",
        "states = []\n",
        "for layer_num in range(depth):\n",
        "    rnn = make_rnn(units, name=f\"enc_rnn_{layer_num}\")\n",
        "    if cell_kind == 'LSTM':\n",
        "        enc_out, state_h, state_c = rnn(enc_out)\n",
        "        states = [state_h, state_c]\n",
        "    else:\n",
        "        enc_out, state_h = rnn(enc_out)\n",
        "        states = [state_h]\n",
        "\n",
        "dec_input_layer = Input(shape=(None,), name=\"tgt_input\")\n",
        "dec_embed = Embedding(input_dim=tgt_vocab_len + 2, output_dim=embed_sz, mask_zero=True, name=\"tgt_embed\")(dec_input_layer)\n",
        "\n",
        "# Decoder Stack\n",
        "dec_out = dec_embed\n",
        "for layer_num in range(depth):\n",
        "    rnn = make_rnn(units, name=f\"dec_rnn_{layer_num}\", return_sequences=True)\n",
        "    if cell_kind == 'LSTM':\n",
        "        dec_out, _, _ = rnn(dec_out, initial_state=states)\n",
        "    else:\n",
        "        dec_out, _ = rnn(dec_out, initial_state=states)\n",
        "\n",
        "final_dense = Dense(tgt_vocab_len + 2, activation='softmax', name=\"out_layer\")(dec_out)\n",
        "\n",
        "model = Model(inputs=[enc_input_layer, dec_input_layer], outputs=final_dense)\n",
        "model.compile(optimizer='adam', loss='sparse_categorical_crossentropy', metrics=['accuracy'])\n",
        "model.summary()\n",
        "\n",
        "# ------------------------\n",
        "# Train\n",
        "# ------------------------\n",
        "model.fit([src_input, dec_input], dec_output, batch_size=2, epochs=10)\n"
      ],
      "metadata": {
        "colab": {
          "base_uri": "https://localhost:8080/",
          "height": 926
        },
        "id": "N0Pn52YdlNxw",
        "outputId": "45f3c5f2-9b4b-47e1-dce9-1491f0cb9582"
      },
      "execution_count": 5,
      "outputs": [
        {
          "output_type": "display_data",
          "data": {
            "text/plain": [
              "\u001b[1mModel: \"functional_2\"\u001b[0m\n"
            ],
            "text/html": [
              "<pre style=\"white-space:pre;overflow-x:auto;line-height:normal;font-family:Menlo,'DejaVu Sans Mono',consolas,'Courier New',monospace\"><span style=\"font-weight: bold\">Model: \"functional_2\"</span>\n",
              "</pre>\n"
            ]
          },
          "metadata": {}
        },
        {
          "output_type": "display_data",
          "data": {
            "text/plain": [
              "┏━━━━━━━━━━━━━━━━━━━━━┳━━━━━━━━━━━━━━━━━━━┳━━━━━━━━━━━━┳━━━━━━━━━━━━━━━━━━━┓\n",
              "┃\u001b[1m \u001b[0m\u001b[1mLayer (type)       \u001b[0m\u001b[1m \u001b[0m┃\u001b[1m \u001b[0m\u001b[1mOutput Shape     \u001b[0m\u001b[1m \u001b[0m┃\u001b[1m \u001b[0m\u001b[1m   Param #\u001b[0m\u001b[1m \u001b[0m┃\u001b[1m \u001b[0m\u001b[1mConnected to     \u001b[0m\u001b[1m \u001b[0m┃\n",
              "┡━━━━━━━━━━━━━━━━━━━━━╇━━━━━━━━━━━━━━━━━━━╇━━━━━━━━━━━━╇━━━━━━━━━━━━━━━━━━━┩\n",
              "│ src_input           │ (\u001b[38;5;45mNone\u001b[0m, \u001b[38;5;45mNone\u001b[0m)      │          \u001b[38;5;34m0\u001b[0m │ -                 │\n",
              "│ (\u001b[38;5;33mInputLayer\u001b[0m)        │                   │            │                   │\n",
              "├─────────────────────┼───────────────────┼────────────┼───────────────────┤\n",
              "│ tgt_input           │ (\u001b[38;5;45mNone\u001b[0m, \u001b[38;5;45mNone\u001b[0m)      │          \u001b[38;5;34m0\u001b[0m │ -                 │\n",
              "│ (\u001b[38;5;33mInputLayer\u001b[0m)        │                   │            │                   │\n",
              "├─────────────────────┼───────────────────┼────────────┼───────────────────┤\n",
              "│ src_embed           │ (\u001b[38;5;45mNone\u001b[0m, \u001b[38;5;45mNone\u001b[0m, \u001b[38;5;34m32\u001b[0m)  │        \u001b[38;5;34m864\u001b[0m │ src_input[\u001b[38;5;34m0\u001b[0m][\u001b[38;5;34m0\u001b[0m]   │\n",
              "│ (\u001b[38;5;33mEmbedding\u001b[0m)         │                   │            │                   │\n",
              "├─────────────────────┼───────────────────┼────────────┼───────────────────┤\n",
              "│ not_equal_4         │ (\u001b[38;5;45mNone\u001b[0m, \u001b[38;5;45mNone\u001b[0m)      │          \u001b[38;5;34m0\u001b[0m │ src_input[\u001b[38;5;34m0\u001b[0m][\u001b[38;5;34m0\u001b[0m]   │\n",
              "│ (\u001b[38;5;33mNotEqual\u001b[0m)          │                   │            │                   │\n",
              "├─────────────────────┼───────────────────┼────────────┼───────────────────┤\n",
              "│ tgt_embed           │ (\u001b[38;5;45mNone\u001b[0m, \u001b[38;5;45mNone\u001b[0m, \u001b[38;5;34m32\u001b[0m)  │      \u001b[38;5;34m2,112\u001b[0m │ tgt_input[\u001b[38;5;34m0\u001b[0m][\u001b[38;5;34m0\u001b[0m]   │\n",
              "│ (\u001b[38;5;33mEmbedding\u001b[0m)         │                   │            │                   │\n",
              "├─────────────────────┼───────────────────┼────────────┼───────────────────┤\n",
              "│ enc_rnn_0 (\u001b[38;5;33mLSTM\u001b[0m)    │ [(\u001b[38;5;45mNone\u001b[0m, \u001b[38;5;34m64\u001b[0m),      │     \u001b[38;5;34m24,832\u001b[0m │ src_embed[\u001b[38;5;34m0\u001b[0m][\u001b[38;5;34m0\u001b[0m],  │\n",
              "│                     │ (\u001b[38;5;45mNone\u001b[0m, \u001b[38;5;34m64\u001b[0m),       │            │ not_equal_4[\u001b[38;5;34m0\u001b[0m][\u001b[38;5;34m0\u001b[0m] │\n",
              "│                     │ (\u001b[38;5;45mNone\u001b[0m, \u001b[38;5;34m64\u001b[0m)]       │            │                   │\n",
              "├─────────────────────┼───────────────────┼────────────┼───────────────────┤\n",
              "│ dec_rnn_0 (\u001b[38;5;33mLSTM\u001b[0m)    │ [(\u001b[38;5;45mNone\u001b[0m, \u001b[38;5;45mNone\u001b[0m,     │     \u001b[38;5;34m24,832\u001b[0m │ tgt_embed[\u001b[38;5;34m0\u001b[0m][\u001b[38;5;34m0\u001b[0m],  │\n",
              "│                     │ \u001b[38;5;34m64\u001b[0m), (\u001b[38;5;45mNone\u001b[0m, \u001b[38;5;34m64\u001b[0m),  │            │ enc_rnn_0[\u001b[38;5;34m0\u001b[0m][\u001b[38;5;34m1\u001b[0m],  │\n",
              "│                     │ (\u001b[38;5;45mNone\u001b[0m, \u001b[38;5;34m64\u001b[0m)]       │            │ enc_rnn_0[\u001b[38;5;34m0\u001b[0m][\u001b[38;5;34m2\u001b[0m]   │\n",
              "├─────────────────────┼───────────────────┼────────────┼───────────────────┤\n",
              "│ out_layer (\u001b[38;5;33mDense\u001b[0m)   │ (\u001b[38;5;45mNone\u001b[0m, \u001b[38;5;45mNone\u001b[0m, \u001b[38;5;34m66\u001b[0m)  │      \u001b[38;5;34m4,290\u001b[0m │ dec_rnn_0[\u001b[38;5;34m0\u001b[0m][\u001b[38;5;34m0\u001b[0m]   │\n",
              "└─────────────────────┴───────────────────┴────────────┴───────────────────┘\n"
            ],
            "text/html": [
              "<pre style=\"white-space:pre;overflow-x:auto;line-height:normal;font-family:Menlo,'DejaVu Sans Mono',consolas,'Courier New',monospace\">┏━━━━━━━━━━━━━━━━━━━━━┳━━━━━━━━━━━━━━━━━━━┳━━━━━━━━━━━━┳━━━━━━━━━━━━━━━━━━━┓\n",
              "┃<span style=\"font-weight: bold\"> Layer (type)        </span>┃<span style=\"font-weight: bold\"> Output Shape      </span>┃<span style=\"font-weight: bold\">    Param # </span>┃<span style=\"font-weight: bold\"> Connected to      </span>┃\n",
              "┡━━━━━━━━━━━━━━━━━━━━━╇━━━━━━━━━━━━━━━━━━━╇━━━━━━━━━━━━╇━━━━━━━━━━━━━━━━━━━┩\n",
              "│ src_input           │ (<span style=\"color: #00d7ff; text-decoration-color: #00d7ff\">None</span>, <span style=\"color: #00d7ff; text-decoration-color: #00d7ff\">None</span>)      │          <span style=\"color: #00af00; text-decoration-color: #00af00\">0</span> │ -                 │\n",
              "│ (<span style=\"color: #0087ff; text-decoration-color: #0087ff\">InputLayer</span>)        │                   │            │                   │\n",
              "├─────────────────────┼───────────────────┼────────────┼───────────────────┤\n",
              "│ tgt_input           │ (<span style=\"color: #00d7ff; text-decoration-color: #00d7ff\">None</span>, <span style=\"color: #00d7ff; text-decoration-color: #00d7ff\">None</span>)      │          <span style=\"color: #00af00; text-decoration-color: #00af00\">0</span> │ -                 │\n",
              "│ (<span style=\"color: #0087ff; text-decoration-color: #0087ff\">InputLayer</span>)        │                   │            │                   │\n",
              "├─────────────────────┼───────────────────┼────────────┼───────────────────┤\n",
              "│ src_embed           │ (<span style=\"color: #00d7ff; text-decoration-color: #00d7ff\">None</span>, <span style=\"color: #00d7ff; text-decoration-color: #00d7ff\">None</span>, <span style=\"color: #00af00; text-decoration-color: #00af00\">32</span>)  │        <span style=\"color: #00af00; text-decoration-color: #00af00\">864</span> │ src_input[<span style=\"color: #00af00; text-decoration-color: #00af00\">0</span>][<span style=\"color: #00af00; text-decoration-color: #00af00\">0</span>]   │\n",
              "│ (<span style=\"color: #0087ff; text-decoration-color: #0087ff\">Embedding</span>)         │                   │            │                   │\n",
              "├─────────────────────┼───────────────────┼────────────┼───────────────────┤\n",
              "│ not_equal_4         │ (<span style=\"color: #00d7ff; text-decoration-color: #00d7ff\">None</span>, <span style=\"color: #00d7ff; text-decoration-color: #00d7ff\">None</span>)      │          <span style=\"color: #00af00; text-decoration-color: #00af00\">0</span> │ src_input[<span style=\"color: #00af00; text-decoration-color: #00af00\">0</span>][<span style=\"color: #00af00; text-decoration-color: #00af00\">0</span>]   │\n",
              "│ (<span style=\"color: #0087ff; text-decoration-color: #0087ff\">NotEqual</span>)          │                   │            │                   │\n",
              "├─────────────────────┼───────────────────┼────────────┼───────────────────┤\n",
              "│ tgt_embed           │ (<span style=\"color: #00d7ff; text-decoration-color: #00d7ff\">None</span>, <span style=\"color: #00d7ff; text-decoration-color: #00d7ff\">None</span>, <span style=\"color: #00af00; text-decoration-color: #00af00\">32</span>)  │      <span style=\"color: #00af00; text-decoration-color: #00af00\">2,112</span> │ tgt_input[<span style=\"color: #00af00; text-decoration-color: #00af00\">0</span>][<span style=\"color: #00af00; text-decoration-color: #00af00\">0</span>]   │\n",
              "│ (<span style=\"color: #0087ff; text-decoration-color: #0087ff\">Embedding</span>)         │                   │            │                   │\n",
              "├─────────────────────┼───────────────────┼────────────┼───────────────────┤\n",
              "│ enc_rnn_0 (<span style=\"color: #0087ff; text-decoration-color: #0087ff\">LSTM</span>)    │ [(<span style=\"color: #00d7ff; text-decoration-color: #00d7ff\">None</span>, <span style=\"color: #00af00; text-decoration-color: #00af00\">64</span>),      │     <span style=\"color: #00af00; text-decoration-color: #00af00\">24,832</span> │ src_embed[<span style=\"color: #00af00; text-decoration-color: #00af00\">0</span>][<span style=\"color: #00af00; text-decoration-color: #00af00\">0</span>],  │\n",
              "│                     │ (<span style=\"color: #00d7ff; text-decoration-color: #00d7ff\">None</span>, <span style=\"color: #00af00; text-decoration-color: #00af00\">64</span>),       │            │ not_equal_4[<span style=\"color: #00af00; text-decoration-color: #00af00\">0</span>][<span style=\"color: #00af00; text-decoration-color: #00af00\">0</span>] │\n",
              "│                     │ (<span style=\"color: #00d7ff; text-decoration-color: #00d7ff\">None</span>, <span style=\"color: #00af00; text-decoration-color: #00af00\">64</span>)]       │            │                   │\n",
              "├─────────────────────┼───────────────────┼────────────┼───────────────────┤\n",
              "│ dec_rnn_0 (<span style=\"color: #0087ff; text-decoration-color: #0087ff\">LSTM</span>)    │ [(<span style=\"color: #00d7ff; text-decoration-color: #00d7ff\">None</span>, <span style=\"color: #00d7ff; text-decoration-color: #00d7ff\">None</span>,     │     <span style=\"color: #00af00; text-decoration-color: #00af00\">24,832</span> │ tgt_embed[<span style=\"color: #00af00; text-decoration-color: #00af00\">0</span>][<span style=\"color: #00af00; text-decoration-color: #00af00\">0</span>],  │\n",
              "│                     │ <span style=\"color: #00af00; text-decoration-color: #00af00\">64</span>), (<span style=\"color: #00d7ff; text-decoration-color: #00d7ff\">None</span>, <span style=\"color: #00af00; text-decoration-color: #00af00\">64</span>),  │            │ enc_rnn_0[<span style=\"color: #00af00; text-decoration-color: #00af00\">0</span>][<span style=\"color: #00af00; text-decoration-color: #00af00\">1</span>],  │\n",
              "│                     │ (<span style=\"color: #00d7ff; text-decoration-color: #00d7ff\">None</span>, <span style=\"color: #00af00; text-decoration-color: #00af00\">64</span>)]       │            │ enc_rnn_0[<span style=\"color: #00af00; text-decoration-color: #00af00\">0</span>][<span style=\"color: #00af00; text-decoration-color: #00af00\">2</span>]   │\n",
              "├─────────────────────┼───────────────────┼────────────┼───────────────────┤\n",
              "│ out_layer (<span style=\"color: #0087ff; text-decoration-color: #0087ff\">Dense</span>)   │ (<span style=\"color: #00d7ff; text-decoration-color: #00d7ff\">None</span>, <span style=\"color: #00d7ff; text-decoration-color: #00d7ff\">None</span>, <span style=\"color: #00af00; text-decoration-color: #00af00\">66</span>)  │      <span style=\"color: #00af00; text-decoration-color: #00af00\">4,290</span> │ dec_rnn_0[<span style=\"color: #00af00; text-decoration-color: #00af00\">0</span>][<span style=\"color: #00af00; text-decoration-color: #00af00\">0</span>]   │\n",
              "└─────────────────────┴───────────────────┴────────────┴───────────────────┘\n",
              "</pre>\n"
            ]
          },
          "metadata": {}
        },
        {
          "output_type": "display_data",
          "data": {
            "text/plain": [
              "\u001b[1m Total params: \u001b[0m\u001b[38;5;34m56,930\u001b[0m (222.38 KB)\n"
            ],
            "text/html": [
              "<pre style=\"white-space:pre;overflow-x:auto;line-height:normal;font-family:Menlo,'DejaVu Sans Mono',consolas,'Courier New',monospace\"><span style=\"font-weight: bold\"> Total params: </span><span style=\"color: #00af00; text-decoration-color: #00af00\">56,930</span> (222.38 KB)\n",
              "</pre>\n"
            ]
          },
          "metadata": {}
        },
        {
          "output_type": "display_data",
          "data": {
            "text/plain": [
              "\u001b[1m Trainable params: \u001b[0m\u001b[38;5;34m56,930\u001b[0m (222.38 KB)\n"
            ],
            "text/html": [
              "<pre style=\"white-space:pre;overflow-x:auto;line-height:normal;font-family:Menlo,'DejaVu Sans Mono',consolas,'Courier New',monospace\"><span style=\"font-weight: bold\"> Trainable params: </span><span style=\"color: #00af00; text-decoration-color: #00af00\">56,930</span> (222.38 KB)\n",
              "</pre>\n"
            ]
          },
          "metadata": {}
        },
        {
          "output_type": "display_data",
          "data": {
            "text/plain": [
              "\u001b[1m Non-trainable params: \u001b[0m\u001b[38;5;34m0\u001b[0m (0.00 B)\n"
            ],
            "text/html": [
              "<pre style=\"white-space:pre;overflow-x:auto;line-height:normal;font-family:Menlo,'DejaVu Sans Mono',consolas,'Courier New',monospace\"><span style=\"font-weight: bold\"> Non-trainable params: </span><span style=\"color: #00af00; text-decoration-color: #00af00\">0</span> (0.00 B)\n",
              "</pre>\n"
            ]
          },
          "metadata": {}
        },
        {
          "output_type": "stream",
          "name": "stdout",
          "text": [
            "Epoch 1/10\n",
            "\u001b[1m22101/22101\u001b[0m \u001b[32m━━━━━━━━━━━━━━━━━━━━\u001b[0m\u001b[37m\u001b[0m \u001b[1m345s\u001b[0m 15ms/step - accuracy: 0.1506 - loss: 2.1486\n",
            "Epoch 2/10\n",
            "\u001b[1m22101/22101\u001b[0m \u001b[32m━━━━━━━━━━━━━━━━━━━━\u001b[0m\u001b[37m\u001b[0m \u001b[1m403s\u001b[0m 16ms/step - accuracy: 0.2708 - loss: 0.7987\n",
            "Epoch 3/10\n",
            "\u001b[1m22101/22101\u001b[0m \u001b[32m━━━━━━━━━━━━━━━━━━━━\u001b[0m\u001b[37m\u001b[0m \u001b[1m357s\u001b[0m 15ms/step - accuracy: 0.2893 - loss: 0.6328\n",
            "Epoch 4/10\n",
            "\u001b[1m22101/22101\u001b[0m \u001b[32m━━━━━━━━━━━━━━━━━━━━\u001b[0m\u001b[37m\u001b[0m \u001b[1m392s\u001b[0m 15ms/step - accuracy: 0.2965 - loss: 0.5646\n",
            "Epoch 5/10\n",
            "\u001b[1m22101/22101\u001b[0m \u001b[32m━━━━━━━━━━━━━━━━━━━━\u001b[0m\u001b[37m\u001b[0m \u001b[1m372s\u001b[0m 15ms/step - accuracy: 0.3013 - loss: 0.5209\n",
            "Epoch 6/10\n",
            "\u001b[1m22101/22101\u001b[0m \u001b[32m━━━━━━━━━━━━━━━━━━━━\u001b[0m\u001b[37m\u001b[0m \u001b[1m379s\u001b[0m 15ms/step - accuracy: 0.3048 - loss: 0.4936\n",
            "Epoch 7/10\n",
            "\u001b[1m22101/22101\u001b[0m \u001b[32m━━━━━━━━━━━━━━━━━━━━\u001b[0m\u001b[37m\u001b[0m \u001b[1m326s\u001b[0m 15ms/step - accuracy: 0.3066 - loss: 0.4710\n",
            "Epoch 8/10\n",
            "\u001b[1m22101/22101\u001b[0m \u001b[32m━━━━━━━━━━━━━━━━━━━━\u001b[0m\u001b[37m\u001b[0m \u001b[1m375s\u001b[0m 14ms/step - accuracy: 0.3101 - loss: 0.4537\n",
            "Epoch 9/10\n",
            "\u001b[1m22101/22101\u001b[0m \u001b[32m━━━━━━━━━━━━━━━━━━━━\u001b[0m\u001b[37m\u001b[0m \u001b[1m324s\u001b[0m 15ms/step - accuracy: 0.3115 - loss: 0.4355\n",
            "Epoch 10/10\n",
            "\u001b[1m22101/22101\u001b[0m \u001b[32m━━━━━━━━━━━━━━━━━━━━\u001b[0m\u001b[37m\u001b[0m \u001b[1m320s\u001b[0m 14ms/step - accuracy: 0.3130 - loss: 0.4247\n"
          ]
        },
        {
          "output_type": "execute_result",
          "data": {
            "text/plain": [
              "<keras.src.callbacks.history.History at 0x7fe7ac8cb490>"
            ]
          },
          "metadata": {},
          "execution_count": 5
        }
      ]
    },
    {
      "cell_type": "code",
      "source": [
        "def predict(input_word, model, src_vocab, tgt_vocab, rev_tgt, embed_sz=32):\n",
        "    # Tokenize the input word (convert to sequence)\n",
        "    input_seq = [[src_vocab.get(char, 0) for char in input_word]]  # Use 0 for unknown chars\n",
        "    input_seq = pad_sequences(input_seq, padding='post')\n",
        "\n",
        "    # Create the decoder input sequence with the SOS token\n",
        "    sos_token = tgt_vocab_len\n",
        "    dec_input = np.array([[sos_token]])\n",
        "\n",
        "    # Generate prediction sequence\n",
        "    predicted_seq = []\n",
        "\n",
        "    # Start predicting one token at a time until EOS token is reached\n",
        "    for _ in range(50):  # Limiting the prediction to 50 tokens max\n",
        "        # Predict the next token probabilities\n",
        "        pred_probs = model.predict([input_seq, dec_input])\n",
        "\n",
        "        # Get the predicted token (taking the max probability)\n",
        "        pred_token = np.argmax(pred_probs[0, -1, :])  # Only consider the last prediction\n",
        "\n",
        "        # If EOS token is predicted, stop the prediction\n",
        "        if pred_token == tgt_vocab_len + 1:\n",
        "            break\n",
        "\n",
        "        # Add the predicted token to the sequence\n",
        "        predicted_seq.append(pred_token)\n",
        "\n",
        "        # Update decoder input for the next time step\n",
        "        dec_input = np.array([predicted_seq]).reshape(1, len(predicted_seq))\n",
        "\n",
        "    # Convert the predicted token sequence back to a Hindi word\n",
        "    predicted_word = ''.join([rev_tgt[token] for token in predicted_seq])\n",
        "\n",
        "    return predicted_word\n",
        "\n",
        "# Example usage:\n",
        "input_word = \"anj\"  # The input English word you want to transliterate\n",
        "predicted_hindi = predict(input_word, model, src_vocab, tgt_vocab, rev_tgt)\n",
        "\n",
        "print(f\"Predicted Hindi Transliteration for '{input_word}': {predicted_hindi}\")\n"
      ],
      "metadata": {
        "colab": {
          "base_uri": "https://localhost:8080/"
        },
        "id": "FMUGCdyjliiE",
        "outputId": "115bd6df-039a-4806-d4fa-c3431bd7b71b"
      },
      "execution_count": 13,
      "outputs": [
        {
          "output_type": "stream",
          "name": "stdout",
          "text": [
            "\u001b[1m1/1\u001b[0m \u001b[32m━━━━━━━━━━━━━━━━━━━━\u001b[0m\u001b[37m\u001b[0m \u001b[1m0s\u001b[0m 79ms/step\n",
            "\u001b[1m1/1\u001b[0m \u001b[32m━━━━━━━━━━━━━━━━━━━━\u001b[0m\u001b[37m\u001b[0m \u001b[1m0s\u001b[0m 86ms/step\n",
            "\u001b[1m1/1\u001b[0m \u001b[32m━━━━━━━━━━━━━━━━━━━━\u001b[0m\u001b[37m\u001b[0m \u001b[1m0s\u001b[0m 69ms/step\n",
            "\u001b[1m1/1\u001b[0m \u001b[32m━━━━━━━━━━━━━━━━━━━━\u001b[0m\u001b[37m\u001b[0m \u001b[1m0s\u001b[0m 53ms/step\n",
            "Predicted Hindi Transliteration for 'anj': अंज\n"
          ]
        }
      ]
    }
  ]
}